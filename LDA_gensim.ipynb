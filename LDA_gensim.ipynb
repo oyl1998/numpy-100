{
 "cells": [
  {
   "cell_type": "code",
   "execution_count": 1,
   "metadata": {},
   "outputs": [],
   "source": [
    "import jieba"
   ]
  },
  {
   "cell_type": "code",
   "execution_count": 2,
   "metadata": {},
   "outputs": [
    {
     "data": {
      "text/html": [
       "<div>\n",
       "<style scoped>\n",
       "    .dataframe tbody tr th:only-of-type {\n",
       "        vertical-align: middle;\n",
       "    }\n",
       "\n",
       "    .dataframe tbody tr th {\n",
       "        vertical-align: top;\n",
       "    }\n",
       "\n",
       "    .dataframe thead th {\n",
       "        text-align: right;\n",
       "    }\n",
       "</style>\n",
       "<table border=\"1\" class=\"dataframe\">\n",
       "  <thead>\n",
       "    <tr style=\"text-align: right;\">\n",
       "      <th></th>\n",
       "      <th>label</th>\n",
       "      <th>content</th>\n",
       "    </tr>\n",
       "  </thead>\n",
       "  <tbody>\n",
       "    <tr>\n",
       "      <th>0</th>\n",
       "      <td>体育</td>\n",
       "      <td>鲍勃库西奖归谁属？ NCAA最强控卫是坎巴还是弗神新浪体育讯如今，本赛季的NCAA进入到了末...</td>\n",
       "    </tr>\n",
       "    <tr>\n",
       "      <th>1</th>\n",
       "      <td>体育</td>\n",
       "      <td>麦基砍28+18+5却充满寂寞 纪录之夜他的痛阿联最懂新浪体育讯上天对每个人都是公平的，贾维...</td>\n",
       "    </tr>\n",
       "    <tr>\n",
       "      <th>2</th>\n",
       "      <td>体育</td>\n",
       "      <td>黄蜂vs湖人首发：科比冲击七连胜 火箭两旧将登场新浪体育讯北京时间3月28日，NBA常规赛洛...</td>\n",
       "    </tr>\n",
       "    <tr>\n",
       "      <th>3</th>\n",
       "      <td>体育</td>\n",
       "      <td>双面谢亚龙作秀终成做作 谁来为低劣行政能力埋单是谁任命了谢亚龙？谁放纵了谢亚龙？谁又该为谢亚...</td>\n",
       "    </tr>\n",
       "    <tr>\n",
       "      <th>4</th>\n",
       "      <td>体育</td>\n",
       "      <td>兔年首战山西换帅后有虎胆 张学文用乔丹名言励志今晚客场挑战浙江稠州银行队，是山西汾酒男篮的兔...</td>\n",
       "    </tr>\n",
       "  </tbody>\n",
       "</table>\n",
       "</div>"
      ],
      "text/plain": [
       "  label                                            content\n",
       "0    体育  鲍勃库西奖归谁属？ NCAA最强控卫是坎巴还是弗神新浪体育讯如今，本赛季的NCAA进入到了末...\n",
       "1    体育  麦基砍28+18+5却充满寂寞 纪录之夜他的痛阿联最懂新浪体育讯上天对每个人都是公平的，贾维...\n",
       "2    体育  黄蜂vs湖人首发：科比冲击七连胜 火箭两旧将登场新浪体育讯北京时间3月28日，NBA常规赛洛...\n",
       "3    体育  双面谢亚龙作秀终成做作 谁来为低劣行政能力埋单是谁任命了谢亚龙？谁放纵了谢亚龙？谁又该为谢亚...\n",
       "4    体育  兔年首战山西换帅后有虎胆 张学文用乔丹名言励志今晚客场挑战浙江稠州银行队，是山西汾酒男篮的兔..."
      ]
     },
     "execution_count": 2,
     "metadata": {},
     "output_type": "execute_result"
    }
   ],
   "source": [
    "import pandas as pd\n",
    "\n",
    "df = pd.read_csv('chinese_news.csv')\n",
    "df.head()"
   ]
  },
  {
   "cell_type": "code",
   "execution_count": 3,
   "metadata": {},
   "outputs": [],
   "source": [
    "# 创建停用词list\n",
    "def get_stoplist():\n",
    "    f = open('stopword.txt', encoding='utf-8')\n",
    "    stoplist = f.read().split('\\n')\n",
    "    f.close()\n",
    "    return stoplist"
   ]
  },
  {
   "cell_type": "code",
   "execution_count": 4,
   "metadata": {},
   "outputs": [],
   "source": [
    "stoplist = get_stoplist()"
   ]
  },
  {
   "cell_type": "code",
   "execution_count": 5,
   "metadata": {},
   "outputs": [],
   "source": [
    "# 对句子进行分词\n",
    "def get_cut_doc(a_doc):\n",
    "    tokens = jieba.lcut(a_doc)\n",
    "    tokens = [t for t in tokens if len(t)>1 and t not in stoplist] #剔除单字、stoplist\n",
    "    return tokens"
   ]
  },
  {
   "cell_type": "code",
   "execution_count": 6,
   "metadata": {},
   "outputs": [
    {
     "name": "stderr",
     "output_type": "stream",
     "text": [
      "Building prefix dict from the default dictionary ...\n",
      "Loading model from cache C:\\Users\\OYL\\AppData\\Local\\Temp\\jieba.cache\n",
      "Loading model cost 0.849 seconds.\n",
      "Prefix dict has been built successfully.\n"
     ]
    }
   ],
   "source": [
    "documents = [get_cut_doc(txt) \n",
    "             for txt in df['content']] "
   ]
  },
  {
   "cell_type": "code",
   "execution_count": 35,
   "metadata": {},
   "outputs": [],
   "source": [
    "# print(documents[0])"
   ]
  },
  {
   "cell_type": "code",
   "execution_count": 14,
   "metadata": {},
   "outputs": [],
   "source": [
    "from gensim import corpora, models, similarities\n",
    "# 构建词频矩阵\n",
    "dictionary = corpora.Dictionary(documents)\n",
    "corpus = [dictionary.doc2bow(text) for text in documents]"
   ]
  },
  {
   "cell_type": "code",
   "execution_count": 36,
   "metadata": {},
   "outputs": [],
   "source": [
    "# corpus[0]"
   ]
  },
  {
   "cell_type": "code",
   "execution_count": 17,
   "metadata": {},
   "outputs": [],
   "source": [
    "lda = models.LdaModel(corpus=corpus, id2word=dictionary, num_topics=10)\n",
    "topic_list = lda.print_topics(10)"
   ]
  },
  {
   "cell_type": "code",
   "execution_count": 19,
   "metadata": {},
   "outputs": [
    {
     "name": "stdout",
     "output_type": "stream",
     "text": [
      "(0, '0.008*\"女儿国\" + 0.007*\"贷款\" + 0.007*\"棒棒\" + 0.005*\"封神\" + 0.003*\"自拍\" + 0.003*\"卫生部\" + 0.003*\"一个\" + 0.002*\"10\" + 0.002*\"12\" + 0.002*\"北京\"')\n",
      "(1, '0.011*\"学生\" + 0.007*\"留学\" + 0.007*\"台湾\" + 0.006*\"大学\" + 0.006*\"马英九\" + 0.006*\"申请\" + 0.004*\"工作\" + 0.004*\"毕业生\" + 0.004*\"英国\" + 0.003*\"大陆\"')\n",
      "(2, '0.016*\"OL\" + 0.008*\"搭配\" + 0.007*\"拍摄\" + 0.005*\"一个\" + 0.005*\"选择\" + 0.004*\"宠物\" + 0.004*\"装备\" + 0.004*\"效果\" + 0.004*\"设计\" + 0.004*\"喜欢\"')\n",
      "(3, '0.020*\"II\" + 0.006*\"听力\" + 0.006*\"比赛\" + 0.003*\"一个\" + 0.003*\"小奥\" + 0.002*\"纽曼\" + 0.002*\"球队\" + 0.002*\"时间\" + 0.002*\"电影\" + 0.002*\"新浪\"')\n",
      "(4, '0.023*\"债券\" + 0.013*\"资产\" + 0.007*\"募集\" + 0.006*\"拍摄\" + 0.005*\"镜头\" + 0.005*\"指数\" + 0.004*\"10\" + 0.004*\"涨幅\" + 0.004*\"上涨\" + 0.003*\"成像\"')\n",
      "(5, '0.034*\"基金\" + 0.009*\"涨幅\" + 0.008*\"指数\" + 0.008*\"投资者\" + 0.007*\"市场\" + 0.007*\"上涨\" + 0.007*\"股票\" + 0.006*\"经理\" + 0.006*\"公司\" + 0.006*\"银行\"')\n",
      "(6, '0.045*\"基金\" + 0.011*\"市场\" + 0.011*\"投资\" + 0.010*\"公司\" + 0.009*\"中国\" + 0.006*\"一个\" + 0.004*\"发展\" + 0.004*\"记者\" + 0.004*\"管理\" + 0.004*\"经济\"')\n",
      "(7, '0.005*\"小奥\" + 0.004*\"一个\" + 0.003*\"中海\" + 0.003*\"道具\" + 0.002*\"积分\" + 0.002*\"比赛\" + 0.002*\"围巾\" + 0.002*\"组图\" + 0.002*\"性感\" + 0.002*\"OL\"')\n",
      "(8, '0.010*\"功能\" + 0.008*\"采用\" + 0.006*\"活动\" + 0.006*\"支持\" + 0.006*\"光学\" + 0.006*\"产品\" + 0.006*\"中国\" + 0.006*\"系统\" + 0.006*\"拥有\" + 0.005*\"自动\"')\n",
      "(9, '0.024*\"玩家\" + 0.015*\"游戏\" + 0.007*\"相机\" + 0.007*\"手机\" + 0.006*\"英寸\" + 0.006*\"活动\" + 0.005*\"时尚\" + 0.004*\"搭配\" + 0.004*\"网游\" + 0.004*\"编辑\"')\n"
     ]
    }
   ],
   "source": [
    "for topic in topic_list:\n",
    "    print(topic)"
   ]
  },
  {
   "cell_type": "code",
   "execution_count": 22,
   "metadata": {},
   "outputs": [
    {
     "data": {
      "text/plain": [
       "['游戏', '体育', '真', '有意思']"
      ]
     },
     "execution_count": 22,
     "metadata": {},
     "output_type": "execute_result"
    }
   ],
   "source": [
    "test = jieba.lcut('游戏体育真有意思')\n",
    "test"
   ]
  },
  {
   "cell_type": "code",
   "execution_count": 25,
   "metadata": {},
   "outputs": [
    {
     "data": {
      "text/plain": [
       "[(464, 1), (4484, 1), (23262, 1)]"
      ]
     },
     "execution_count": 25,
     "metadata": {},
     "output_type": "execute_result"
    }
   ],
   "source": [
    "corpus_test = dictionary.doc2bow(test)\n",
    "corpus_test"
   ]
  },
  {
   "cell_type": "code",
   "execution_count": 31,
   "metadata": {},
   "outputs": [],
   "source": [
    "# 得到主题分布\n",
    "topics_test = lda.get_document_topics(corpus_test)  "
   ]
  },
  {
   "cell_type": "code",
   "execution_count": 33,
   "metadata": {},
   "outputs": [
    {
     "name": "stdout",
     "output_type": "stream",
     "text": [
      "[(0, 0.025049802), (1, 0.025056757), (2, 0.025049279), (3, 0.025051763), (4, 0.025046073), (5, 0.025043063), (6, 0.025043666), (7, 0.025052955), (8, 0.025049264), (9, 0.7745574)]\n"
     ]
    }
   ],
   "source": [
    "print(topics_test)"
   ]
  },
  {
   "cell_type": "code",
   "execution_count": 34,
   "metadata": {},
   "outputs": [],
   "source": [
    "# 最大可能性是第9类：0.7745574"
   ]
  },
  {
   "cell_type": "code",
   "execution_count": null,
   "metadata": {},
   "outputs": [],
   "source": []
  }
 ],
 "metadata": {
  "kernelspec": {
   "display_name": "Python 3",
   "language": "python",
   "name": "python3"
  },
  "language_info": {
   "codemirror_mode": {
    "name": "ipython",
    "version": 3
   },
   "file_extension": ".py",
   "mimetype": "text/x-python",
   "name": "python",
   "nbconvert_exporter": "python",
   "pygments_lexer": "ipython3",
   "version": "3.7.6"
  },
  "toc": {
   "base_numbering": 1,
   "nav_menu": {},
   "number_sections": true,
   "sideBar": true,
   "skip_h1_title": false,
   "title_cell": "Table of Contents",
   "title_sidebar": "Contents",
   "toc_cell": false,
   "toc_position": {},
   "toc_section_display": true,
   "toc_window_display": false
  }
 },
 "nbformat": 4,
 "nbformat_minor": 4
}
