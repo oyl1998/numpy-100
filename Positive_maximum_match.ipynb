import os

path = os.getcwd()
os.getcwd()

training_file = open(path + '\\training' + '\\pku_training.utf8', encoding='utf-8')
testing_file = open(path + '\\testing' + '\\pku_test.utf8', encoding='utf-8')
gold_file = open(path + '\\gold' + '\\pku_test_gold.utf8', encoding='utf-8')

training_text = training_file.read()
testing_text = testing_file.read()
gold_text = gold_file.read()

training_file.close()
testing_file.close()
gold_file.close()

print(training_text)

def get_dic(test_file):
    file_list = test_file.split()
    file_set = list(set(file_list))
    return file_set

training_dic = get_dic(training_text)

def run(test_file, max_len):
    with open(path + '\\testing' + '\\pku_test.utf8','r',encoding='utf-8',) as f: # 安行读取测试文件
         lines = f.readlines()
    h = open(path + 'answer.txt', 'w', encoding='utf-8',)
    for line in lines:
        max_length = max_len                            # 最大词长
        my_list = []                                    # 初始化结果列表
        len_line = len(line)                            # 一行文本长度
        while len_line > 0:
            try_word = line[0:max_length]               # 取前max_len 个词
            while try_word not in training_dic:        # 直到找到try_word存在于dict中
                if len(try_word) == 1:
                    break
                try_word = try_word[0:len(try_word)-1]  # 取前 0 ~ len-1
            my_list.append(try_word)                    # 保存至list中
            line = line[len(try_word):]
            len_line = len(line)
                
        for t in my_list:         # 保存至文件中
            if t == '\n':
                h.write('\n')
            else:
                h.write(t + ' ')
    h.close()

run(testing_text, 5)

def check():
    with open(path + 'answer.txt', 'r', encoding='utf-8') as f:
        lines_answer = f.readlines()
    with open(path + '\\gold' + '\\pku_test_gold.utf8', encoding='utf-8') as f:
        lines_gold = f.readlines()
    true_count, false_count = 0, 0
    answer_line, gold_line = 0, 0
    while answer_line < len(lines_answer) and gold_line < len(lines_gold):
        answer_index, gold_index = 0, 0
        while answer_index < len(lines_answer[answer_line]) and gold_index < len(lines_gold[gold_line]):
            if lines_answer[answer_line][answer_index] == lines_gold[gold_line][gold_index]:
                true_count += 1
            else:
                false_count += 1
            answer_index += 1
            gold_index += 1
        answer_line += 1
        gold_line += 1
    return true_count, false_count

true_count, false_count = check()

print(true_count, false_count)

