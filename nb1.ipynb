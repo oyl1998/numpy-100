{
 "cells": [
  {
   "cell_type": "code",
   "execution_count": 1,
   "metadata": {},
   "outputs": [],
   "source": [
    "import numpy as np\n",
    "import os\n",
    "import pandas as pd"
   ]
  },
  {
   "cell_type": "code",
   "execution_count": 2,
   "metadata": {},
   "outputs": [
    {
     "data": {
      "text/plain": [
       "'D:\\\\JupyterNotebook\\\\Numpy_practice\\\\第八次作业\\\\dataset'"
      ]
     },
     "execution_count": 2,
     "metadata": {},
     "output_type": "execute_result"
    }
   ],
   "source": [
    "path = os.getcwd()\n",
    "dataset_path = path + '\\\\dataset'\n",
    "dataset_path"
   ]
  },
  {
   "cell_type": "code",
   "execution_count": 3,
   "metadata": {},
   "outputs": [],
   "source": [
    "labels = ['环境', '计算机', '交通', '教育', '经济', '军事', '体育', '医药', '艺术', '政治']"
   ]
  },
  {
   "cell_type": "code",
   "execution_count": 4,
   "metadata": {},
   "outputs": [],
   "source": [
    "# 加载训练集 并进行分词\n",
    "import jieba\n",
    "def load_dataset():\n",
    "    folders = os.listdir(dataset_path)\n",
    "    data_list = []\n",
    "    class_list = []\n",
    "    level = 0\n",
    "    for folder in folders:\n",
    "        files = os.listdir(dataset_path + '\\\\' + folder)\n",
    "        txt = \"\"\n",
    "        for file in files:\n",
    "            with open(dataset_path + '\\\\' + folder + '\\\\' + file, encoding='ANSI', errors='ignore') as f:\n",
    "                lines = f.readlines()\n",
    "                for line in lines:\n",
    "                    txt += line.strip()\n",
    "                f.close()\n",
    "            txt += '。'\n",
    "        words = jieba.lcut(txt)\n",
    "        word_list = [t for t in words if t not in stopwords and len(t) > 1 and len(t) < 8]\n",
    "        data_list.append(word_list)\n",
    "        class_list.append(level)\n",
    "        level += 1\n",
    "    return data_list, class_list"
   ]
  },
  {
   "cell_type": "code",
   "execution_count": 5,
   "metadata": {},
   "outputs": [],
   "source": [
    "# 读取stopwords\n",
    "def load_stop():\n",
    "    f = open('stopword.txt', encoding='utf-8')\n",
    "    stopwords = f.read().split('\\n')\n",
    "    f.close()\n",
    "    return stopwords"
   ]
  },
  {
   "cell_type": "code",
   "execution_count": 6,
   "metadata": {},
   "outputs": [
    {
     "data": {
      "text/plain": [
       "1537"
      ]
     },
     "execution_count": 6,
     "metadata": {},
     "output_type": "execute_result"
    }
   ],
   "source": [
    "stopwords = load_stop()\n",
    "len(stopwords)"
   ]
  },
  {
   "cell_type": "code",
   "execution_count": 7,
   "metadata": {},
   "outputs": [
    {
     "name": "stderr",
     "output_type": "stream",
     "text": [
      "Building prefix dict from the default dictionary ...\n",
      "Loading model from cache C:\\Users\\OYL\\AppData\\Local\\Temp\\jieba.cache\n",
      "Loading model cost 0.996 seconds.\n",
      "Prefix dict has been built successfully.\n"
     ]
    }
   ],
   "source": [
    "data_list, class_list = load_dataset()"
   ]
  },
  {
   "cell_type": "code",
   "execution_count": 8,
   "metadata": {},
   "outputs": [
    {
     "data": {
      "text/plain": [
       "(10, 10)"
      ]
     },
     "execution_count": 8,
     "metadata": {},
     "output_type": "execute_result"
    }
   ],
   "source": [
    "len(data_list), len(class_list)"
   ]
  },
  {
   "cell_type": "code",
   "execution_count": 9,
   "metadata": {},
   "outputs": [],
   "source": [
    "# 创建词库 这里就是直接把所有词去重后，当作词库\n",
    "def createVocabList(dataSet):\n",
    "    vocabSet = set([])\n",
    "    for document in dataSet:\n",
    "        vocabSet = vocabSet | set(document)\n",
    "    return list(vocabSet)"
   ]
  },
  {
   "cell_type": "code",
   "execution_count": 10,
   "metadata": {},
   "outputs": [],
   "source": [
    "myVocabList = createVocabList(data_list)"
   ]
  },
  {
   "cell_type": "code",
   "execution_count": 11,
   "metadata": {},
   "outputs": [
    {
     "data": {
      "text/plain": [
       "68563"
      ]
     },
     "execution_count": 11,
     "metadata": {},
     "output_type": "execute_result"
    }
   ],
   "source": [
    "len(myVocabList)"
   ]
  },
  {
   "cell_type": "code",
   "execution_count": 12,
   "metadata": {},
   "outputs": [],
   "source": [
    "# 文本词向量。词库中每个词当作一个特征，文本中就该词，该词特征就是1，没有就是0\n",
    "def trainNB(vocabList):\n",
    "    returnVec = []\n",
    "    pclass = []\n",
    "    word_sum = 0\n",
    "    word_total = []  # 总的单词（有重复）\n",
    "    for data in data_list:\n",
    "        pclass.append(len(data))\n",
    "        word_sum += len(data)\n",
    "        word_total += data\n",
    "    for i, val in enumerate(pclass):\n",
    "        pclass[i] = val*1.0 / word_sum\n",
    "    \n",
    "    word_sum_vocabList = len(vocabList)\n",
    "    for word in vocabList:\n",
    "        Vec = []\n",
    "        word_cnt_total = word_total.count(word) # 所有训练集中词项出现的总次数\n",
    "        for data in data_list:\n",
    "            word_cnt = data.count(word)         # 该类下词项出现的总次数\n",
    "            Vec.append( (word_cnt + 1.0) / (word_cnt_total + word_sum_vocabList) )\n",
    "        returnVec.append(Vec)\n",
    "        \n",
    "    return pclass, returnVec"
   ]
  },
  {
   "cell_type": "code",
   "execution_count": 13,
   "metadata": {},
   "outputs": [],
   "source": [
    "pclass, pwordvec = trainNB(myVocabList)"
   ]
  },
  {
   "cell_type": "code",
   "execution_count": 14,
   "metadata": {},
   "outputs": [
    {
     "name": "stdout",
     "output_type": "stream",
     "text": [
      "[0.04777550061550742, 0.07122035502400563, 0.08475478218110233, 0.04043151195903129, 0.06887115434164283, 0.11291151007293468, 0.06158442218925295, 0.19657841867639803, 0.13017603006976874, 0.18569631487035612]\n"
     ]
    }
   ],
   "source": [
    "print(pclass)"
   ]
  },
  {
   "cell_type": "code",
   "execution_count": 15,
   "metadata": {},
   "outputs": [
    {
     "name": "stdout",
     "output_type": "stream",
     "text": [
      "[1.4584913365614608e-05, 1.4584913365614608e-05, 1.4584913365614608e-05, 2.9169826731229216e-05, 1.4584913365614608e-05, 1.4584913365614608e-05, 1.4584913365614608e-05, 1.4584913365614608e-05, 1.4584913365614608e-05, 1.4584913365614608e-05]\n"
     ]
    }
   ],
   "source": [
    "print(pwordvec[0])"
   ]
  },
  {
   "cell_type": "code",
   "execution_count": 16,
   "metadata": {},
   "outputs": [],
   "source": [
    "def load_test():\n",
    "    test_path = path + '\\\\testdata'\n",
    "    files = os.listdir(test_path)\n",
    "    test_data_list = []\n",
    "    for file in files:\n",
    "        txt = ''\n",
    "        with open(test_path + '\\\\' + file, encoding='ANSI', errors='ignore') as f:\n",
    "            lines = f.readlines()\n",
    "            for line in lines:\n",
    "                txt += line.strip()\n",
    "            f.close()\n",
    "        words = jieba.lcut(txt)\n",
    "        word_list = [t for t in words if t not in stopwords and len(t) > 1 and len(t) < 8]\n",
    "        test_data_list.append(word_list)\n",
    "    return files, test_data_list"
   ]
  },
  {
   "cell_type": "code",
   "execution_count": 17,
   "metadata": {},
   "outputs": [],
   "source": [
    "test_names, test_data_list = load_test()"
   ]
  },
  {
   "cell_type": "code",
   "execution_count": 18,
   "metadata": {},
   "outputs": [],
   "source": [
    "pclass = [i * 100 for i in pclass]"
   ]
  },
  {
   "cell_type": "code",
   "execution_count": 26,
   "metadata": {},
   "outputs": [
    {
     "data": {
      "text/plain": [
       "[0.0, 0.0, 0.0, 0.0, 0.0, 0.0, 0.0, 0.0, 0.0, 0.0]"
      ]
     },
     "execution_count": 26,
     "metadata": {},
     "output_type": "execute_result"
    }
   ],
   "source": [
    "pclass"
   ]
  },
  {
   "cell_type": "code",
   "execution_count": 19,
   "metadata": {},
   "outputs": [],
   "source": [
    "def predict(test_list):\n",
    "    pvec = pclass\n",
    "    for test_word in test_list:\n",
    "        if test_word not in myVocabList:\n",
    "            continue\n",
    "        word_index = myVocabList.index(test_word)\n",
    "        for i in range(10):\n",
    "            pvec[i] *= pwordvec[word_index][i] * 10\n",
    "    return pvec"
   ]
  },
  {
   "cell_type": "code",
   "execution_count": 20,
   "metadata": {},
   "outputs": [],
   "source": [
    "predict_vec = []\n",
    "predict_class = []\n",
    "\n",
    "for test_data in test_data_list:\n",
    "    pvec = predict(test_data)\n",
    "    predict_vec.append(pvec)\n",
    "    predict_class.append(pvec.index(max(pvec)))"
   ]
  },
  {
   "cell_type": "code",
   "execution_count": 21,
   "metadata": {},
   "outputs": [
    {
     "data": {
      "text/plain": [
       "([[0.0, 0.0, 0.0, 0.0, 0.0, 0.0, 0.0, 0.0, 0.0, 0.0],\n",
       "  [0.0, 0.0, 0.0, 0.0, 0.0, 0.0, 0.0, 0.0, 0.0, 0.0]],\n",
       " [1, 1])"
      ]
     },
     "execution_count": 21,
     "metadata": {},
     "output_type": "execute_result"
    }
   ],
   "source": [
    "predict_vec[:2], predict_class[:2]"
   ]
  },
  {
   "cell_type": "code",
   "execution_count": 22,
   "metadata": {},
   "outputs": [],
   "source": [
    "predict_ans = pd.DataFrame({'name': test_names, 'predict_class': predict_class})"
   ]
  },
  {
   "cell_type": "code",
   "execution_count": 23,
   "metadata": {},
   "outputs": [
    {
     "data": {
      "text/html": [
       "<div>\n",
       "<style scoped>\n",
       "    .dataframe tbody tr th:only-of-type {\n",
       "        vertical-align: middle;\n",
       "    }\n",
       "\n",
       "    .dataframe tbody tr th {\n",
       "        vertical-align: top;\n",
       "    }\n",
       "\n",
       "    .dataframe thead th {\n",
       "        text-align: right;\n",
       "    }\n",
       "</style>\n",
       "<table border=\"1\" class=\"dataframe\">\n",
       "  <thead>\n",
       "    <tr style=\"text-align: right;\">\n",
       "      <th></th>\n",
       "      <th>name</th>\n",
       "      <th>predict_class</th>\n",
       "    </tr>\n",
       "  </thead>\n",
       "  <tbody>\n",
       "    <tr>\n",
       "      <th>0</th>\n",
       "      <td>101.txt</td>\n",
       "      <td>1</td>\n",
       "    </tr>\n",
       "    <tr>\n",
       "      <th>1</th>\n",
       "      <td>1010.txt</td>\n",
       "      <td>1</td>\n",
       "    </tr>\n",
       "    <tr>\n",
       "      <th>2</th>\n",
       "      <td>10100.txt</td>\n",
       "      <td>0</td>\n",
       "    </tr>\n",
       "    <tr>\n",
       "      <th>3</th>\n",
       "      <td>10101.txt</td>\n",
       "      <td>0</td>\n",
       "    </tr>\n",
       "    <tr>\n",
       "      <th>4</th>\n",
       "      <td>10102.txt</td>\n",
       "      <td>0</td>\n",
       "    </tr>\n",
       "  </tbody>\n",
       "</table>\n",
       "</div>"
      ],
      "text/plain": [
       "        name  predict_class\n",
       "0    101.txt              1\n",
       "1   1010.txt              1\n",
       "2  10100.txt              0\n",
       "3  10101.txt              0\n",
       "4  10102.txt              0"
      ]
     },
     "execution_count": 23,
     "metadata": {},
     "output_type": "execute_result"
    }
   ],
   "source": [
    "predict_ans.head()"
   ]
  },
  {
   "cell_type": "code",
   "execution_count": 24,
   "metadata": {},
   "outputs": [
    {
     "data": {
      "text/plain": [
       "<bound method NDFrame.describe of           name  predict_class\n",
       "0      101.txt              1\n",
       "1     1010.txt              1\n",
       "2    10100.txt              0\n",
       "3    10101.txt              0\n",
       "4    10102.txt              0\n",
       "..         ...            ...\n",
       "631    995.TXT              0\n",
       "632    996.TXT              0\n",
       "633    997.TXT              0\n",
       "634    998.TXT              0\n",
       "635    999.TXT              0\n",
       "\n",
       "[636 rows x 2 columns]>"
      ]
     },
     "execution_count": 24,
     "metadata": {},
     "output_type": "execute_result"
    }
   ],
   "source": [
    "predict_ans.describe"
   ]
  },
  {
   "cell_type": "code",
   "execution_count": 25,
   "metadata": {},
   "outputs": [
    {
     "data": {
      "text/plain": [
       "array([1, 0], dtype=int64)"
      ]
     },
     "execution_count": 25,
     "metadata": {},
     "output_type": "execute_result"
    }
   ],
   "source": [
    "predict_ans['predict_class'].unique()"
   ]
  }
 ],
 "metadata": {
  "kernelspec": {
   "display_name": "Python 3",
   "language": "python",
   "name": "python3"
  },
  "language_info": {
   "codemirror_mode": {
    "name": "ipython",
    "version": 3
   },
   "file_extension": ".py",
   "mimetype": "text/x-python",
   "name": "python",
   "nbconvert_exporter": "python",
   "pygments_lexer": "ipython3",
   "version": "3.7.6"
  },
  "toc": {
   "base_numbering": 1,
   "nav_menu": {},
   "number_sections": true,
   "sideBar": true,
   "skip_h1_title": false,
   "title_cell": "Table of Contents",
   "title_sidebar": "Contents",
   "toc_cell": false,
   "toc_position": {},
   "toc_section_display": true,
   "toc_window_display": false
  }
 },
 "nbformat": 4,
 "nbformat_minor": 4
}
